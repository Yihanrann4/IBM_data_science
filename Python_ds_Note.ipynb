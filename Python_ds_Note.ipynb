{
  "cells": [
    {
      "cell_type": "markdown",
      "id": "205b6798",
      "metadata": {
        "id": "205b6798"
      },
      "source": [
        "# Notes: Python for Data Science and AI"
      ]
    },
    {
      "cell_type": "markdown",
      "id": "62a39c13",
      "metadata": {
        "id": "62a39c13"
      },
      "source": [
        "## 1. Types\n",
        "***"
      ]
    },
    {
      "cell_type": "code",
      "execution_count": null,
      "id": "431eace9",
      "metadata": {
        "id": "431eace9"
      },
      "outputs": [],
      "source": [
        "#Integers\n",
        "a = 1\n",
        "\n",
        "#Floats\n",
        "b = 1.11111\n",
        "\n",
        "#Strings\n",
        "c = \"222\"\n",
        "\n",
        "#Boolean\n",
        "t = True\n",
        "d = False"
      ]
    },
    {
      "cell_type": "markdown",
      "id": "7a0495c9",
      "metadata": {
        "id": "7a0495c9"
      },
      "source": [
        "- Typecasting:"
      ]
    },
    {
      "cell_type": "code",
      "execution_count": null,
      "id": "3ba56d6e",
      "metadata": {
        "id": "3ba56d6e"
      },
      "outputs": [],
      "source": [
        "#int,float, string can all be cast to each others as long as it makes sense:\n",
        "\n",
        "#int to float\n",
        "a = float(2)\n",
        "\n",
        "#string to int\n",
        "c =int(\"20\")\n",
        "\n",
        "#float to string\n",
        "d = str(2.33)"
      ]
    },
    {
      "cell_type": "code",
      "execution_count": null,
      "id": "b93b3438",
      "metadata": {
        "id": "b93b3438"
      },
      "outputs": [],
      "source": [
        "#For boolean:\n",
        "\n",
        "#booelean to int\n",
        "t = int(True)\n",
        "f = int(False)\n",
        "\n",
        "#int to boolean\n",
        "t = bool(1)\n",
        "f= bool(0)\n",
        "\n",
        "#float to boolean, (numbers other than 0.0 will be casted to False)\n",
        "t = bool(0.1) \n",
        "f = bool(0.0)"
      ]
    },
    {
      "cell_type": "markdown",
      "id": "a41352ac",
      "metadata": {
        "id": "a41352ac"
      },
      "source": [
        "## 2. Expressions and Variables\n",
        "***"
      ]
    },
    {
      "cell_type": "markdown",
      "id": "691a59de",
      "metadata": {
        "id": "691a59de"
      },
      "source": [
        "- Mathematical Operations:"
      ]
    },
    {
      "cell_type": "code",
      "execution_count": null,
      "id": "40b94065",
      "metadata": {
        "id": "40b94065",
        "outputId": "44af48bc-10e8-4dbf-b92f-c6a349af7f69"
      },
      "outputs": [
        {
          "name": "stdout",
          "output_type": "stream",
          "text": [
            "3\n",
            "-1.0\n",
            "6\n",
            "6.0\n",
            "5.0\n",
            "5\n",
            "7\n",
            "9.0\n"
          ]
        }
      ],
      "source": [
        "#addition & subtraction, returns the original type (float > int)\n",
        "a = 1+2\n",
        "print(a)\n",
        "b = 1.0-2.0\n",
        "print(b)\n",
        "\n",
        "#multiplication, returns the original type (float > int)\n",
        "a = 2*3\n",
        "print(a)\n",
        "a = 2.0*3.0\n",
        "print(a)\n",
        "\n",
        "#division, / returns float and // returns integer\n",
        "a = 25/5\n",
        "print(a)\n",
        "b = 27//5\n",
        "print(b)\n",
        "\n",
        "#complex operations, (parenthesis > multiplication > addition), returns the original type (float > int)\n",
        "a = 1+2*3\n",
        "print(a)\n",
        "b = 3.0*(1+2)\n",
        "print(b)"
      ]
    },
    {
      "cell_type": "markdown",
      "id": "23f8179e",
      "metadata": {
        "id": "23f8179e"
      },
      "source": [
        "- Variables"
      ]
    },
    {
      "cell_type": "code",
      "execution_count": null,
      "id": "b0abc061",
      "metadata": {
        "id": "b0abc061",
        "outputId": "da34aa80-3158-4535-fcec-4a7cf765f319"
      },
      "outputs": [
        {
          "name": "stdout",
          "output_type": "stream",
          "text": [
            "10\n",
            "9\n",
            "20\n",
            "19\n"
          ]
        }
      ],
      "source": [
        "#assign value to variable\n",
        "my_variable = 10\n",
        "your_variable = my_variable -1\n",
        "print(my_variable)\n",
        "print(your_variable)\n",
        "\n",
        "#assign value to variable using operators\n",
        "my_variable = 10+10\n",
        "your_variable = my_variable -1\n",
        "print(my_variable)\n",
        "print(your_variable)\n"
      ]
    },
    {
      "cell_type": "markdown",
      "id": "dc2be0ff",
      "metadata": {
        "id": "dc2be0ff"
      },
      "source": [
        "- String operations:\n",
        "  - Sequence methods\n",
        "  - String methods"
      ]
    },
    {
      "cell_type": "code",
      "execution_count": null,
      "id": "e7b3814a",
      "metadata": {
        "id": "e7b3814a",
        "outputId": "fe6f8adb-44d8-4f7a-b6d7-aa9858694cd3"
      },
      "outputs": [
        {
          "name": "stdout",
          "output_type": "stream",
          "text": [
            "M\n",
            "n\n",
            "McalJcsn\n",
            "Mhlas\n",
            "Mi\n",
            "Micha\n",
            "Mca\n",
            "Mhl\n",
            "15\n",
            "Michael JacksonMichael Jackson\n",
            "Michael JacksonMichael JacksonMichael Jackson\n"
          ]
        }
      ],
      "source": [
        "Name = \"Michael Jackson\"\n",
        "\n",
        "#retrive letters from the string sequence\n",
        "#Str_Name[index]\n",
        "print(Name[0])\n",
        "print(Name[-1])\n",
        "\n",
        "#stride: return the first letter of every x letters\n",
        "#Str_Name[::stride_num]\n",
        "print(Name[::2]) # return the first letter for every 2 letters\n",
        "print(Name[::3]) # return the first letter for every 3 letters\n",
        "\n",
        "#slicing: \n",
        "#Str_Name[index_begin:index_end+1]\n",
        "print(Name[0:2]) #return the letters within index 0 to 1\n",
        "print(Name[0:5]) #return the letters within index 0 to 4\n",
        "\n",
        "#slicing with stride: #return the first letter for every 2 letters within the slice\n",
        "#Str_Name[index_begin:index_end:stride_num]\n",
        "print(Name[0:5:2]) #return the first letter for every 2 letters within index 0 to 4\n",
        "print(Name[0:8:3]) #return the first letter for every 3 letters within index  0 to 7\n",
        "\n",
        "#return the length of a string\n",
        "#len(Str_Name)\n",
        "print(len(Name))\n",
        "\n",
        "#concatenate strings (+)\n",
        "new_name = Name + Name\n",
        "print(new_name)\n",
        "\n",
        "#replicate strings\n",
        "new_name = Name * 3\n",
        "print(new_name)"
      ]
    },
    {
      "cell_type": "markdown",
      "id": "2f5dcad8",
      "metadata": {
        "id": "2f5dcad8"
      },
      "source": [
        "\\*Strings are immutable: "
      ]
    },
    {
      "cell_type": "code",
      "execution_count": null,
      "id": "ab5f6a5e",
      "metadata": {
        "id": "ab5f6a5e",
        "outputId": "deb3c665-c8bb-457c-d16d-66b0a6282248"
      },
      "outputs": [
        {
          "name": "stdout",
          "output_type": "stream",
          "text": [
            "Micheal Jackson is the best\n",
            "Micheal Jackson is not the best\n"
          ]
        }
      ],
      "source": [
        "a = \"Micheal Jackson is not the best\"\n",
        "b = a\n",
        "a = \"Micheal Jackson is the best\" \n",
        "\n",
        "#change of a doesn't change the content a originally referred to\n",
        "print(a)\n",
        "print(b)"
      ]
    },
    {
      "cell_type": "markdown",
      "id": "85d12176",
      "metadata": {
        "id": "85d12176"
      },
      "source": [
        "\\*Escape sequences in strings"
      ]
    },
    {
      "cell_type": "code",
      "execution_count": null,
      "id": "51a6d3bd",
      "metadata": {
        "id": "51a6d3bd",
        "outputId": "78c8304d-26ea-4e8e-b1fe-4a450729f395"
      },
      "outputs": [
        {
          "name": "stdout",
          "output_type": "stream",
          "text": [
            "A\n",
            "B\n",
            "A\tB\n",
            "A\\B\n",
            "A\\B\n"
          ]
        }
      ],
      "source": [
        "#new line: \\n\n",
        "print(\"A\\nB\")\n",
        "\n",
        "#tab: \\t\n",
        "print(\"A\\tB\")\n",
        "\n",
        "#backslash: \\\\ or r\n",
        "print(\"A\\\\B\")\n",
        "print(r\"A\\B\")"
      ]
    },
    {
      "cell_type": "code",
      "execution_count": null,
      "id": "9d380b98",
      "metadata": {
        "id": "9d380b98",
        "outputId": "d702677a-5e84-4f79-b2cd-4c1b3f54f6bc"
      },
      "outputs": [
        {
          "name": "stdout",
          "output_type": "stream",
          "text": [
            "THRILLER IS THE SIXTH STUDIO ALBUM\n",
            "thriller is the sixth studio album\n"
          ]
        }
      ],
      "source": [
        "#Transform to upper/lower case\n",
        "\n",
        "#Str_Name.upper()\n",
        "#Str_Name.lower()\n",
        "\n",
        "A = \"Thriller is the sixth studio album\"\n",
        "B = A.upper()\n",
        "C = A.lower()\n",
        "print(B)\n",
        "print(C)"
      ]
    },
    {
      "cell_type": "code",
      "execution_count": null,
      "id": "90f5d75b",
      "metadata": {
        "id": "90f5d75b",
        "outputId": "cf2d244d-bccb-4451-df77-cab79027f59f"
      },
      "outputs": [
        {
          "name": "stdout",
          "output_type": "stream",
          "text": [
            "Beatles is the best\n"
          ]
        }
      ],
      "source": [
        "#Replace substrings\n",
        "\n",
        "#Str_Name.replace('Original_substring','New_substring')\n",
        "\n",
        "A = \"Michael Jackson is the best\"\n",
        "B = A.replace('Michael Jackson','Beatles')\n",
        "print(B)"
      ]
    },
    {
      "cell_type": "code",
      "execution_count": null,
      "id": "ce384568",
      "metadata": {
        "id": "ce384568",
        "outputId": "1b3cc6d3-ae1f-4984-be6c-2b2656cc699d"
      },
      "outputs": [
        {
          "name": "stdout",
          "output_type": "stream",
          "text": [
            "8\n",
            "-1\n"
          ]
        }
      ],
      "source": [
        "#Find substrings\n",
        "\n",
        "#Str_Name.find('substring')\n",
        "\n",
        "A = \"Michael Jackson is the best\"\n",
        "B = A.find('Jackson')\n",
        "C = A.find('Beatles')\n",
        "\n",
        "#returns the index of the first letter\n",
        "print(B)\n",
        "\n",
        "#if not a substring, return -1\n",
        "print(C)"
      ]
    },
    {
      "cell_type": "markdown",
      "id": "7db11bdb",
      "metadata": {
        "id": "7db11bdb"
      },
      "source": [
        "## 3. Compound Data Types (Lists & Tuples)\n",
        "***"
      ]
    },
    {
      "cell_type": "markdown",
      "id": "6ef18154",
      "metadata": {
        "id": "6ef18154"
      },
      "source": [
        "- Tuples"
      ]
    },
    {
      "cell_type": "code",
      "execution_count": null,
      "id": "2b4ee611",
      "metadata": {
        "id": "2b4ee611"
      },
      "outputs": [],
      "source": [
        "#Format of tuples\n",
        "scores = (1,2,3,4)\n",
        "\n",
        "#all types can be included in a tuple\n",
        "t1 = (\"number\",1.0,2)"
      ]
    },
    {
      "cell_type": "code",
      "execution_count": null,
      "id": "d2bef4cb",
      "metadata": {
        "id": "d2bef4cb",
        "outputId": "3db230e1-c9ed-4f8f-b26e-6bb52594737b"
      },
      "outputs": [
        {
          "name": "stdout",
          "output_type": "stream",
          "text": [
            "('0.0', 1, 2.0, '3')\n",
            "(0, 1, 2)\n",
            "(3, 4, 5)\n"
          ]
        }
      ],
      "source": [
        "#Concatenate tuples (+)\n",
        "tuple1 = (\"0.0\",1)\n",
        "tuple2 = tuple1 + (2.0,\"3\")\n",
        "print(tuple2)\n",
        "\n",
        "#Slicing tuples\n",
        "#tuple[index_begin:index_end+1]\n",
        "tp = (0,1,2,3,4,5)\n",
        "print(tp[0:3])\n",
        "print(tp[3:6])"
      ]
    },
    {
      "cell_type": "markdown",
      "id": "8491bc67",
      "metadata": {
        "id": "8491bc67"
      },
      "source": [
        "\\*Tuples are immutable: meaning that we cannot change the element inside a tuple"
      ]
    },
    {
      "cell_type": "code",
      "execution_count": null,
      "id": "4d3e5487",
      "metadata": {
        "id": "4d3e5487",
        "outputId": "fa00a6d5-16ae-4eea-d4dc-75e7e0f9d2f1"
      },
      "outputs": [
        {
          "name": "stdout",
          "output_type": "stream",
          "text": [
            "[1.0, 3.0, 5.0]\n",
            "(3.0, 1.0, 5.0)\n"
          ]
        }
      ],
      "source": [
        "Ratings_1 = (3.0,1.0,5.0)\n",
        "Ratings_2 = Ratings_1\n",
        "Ratings_1 = sorted(Ratings_1)\n",
        "\n",
        "#Ratings_1 are now pointing to a new tuple\n",
        "print(Ratings_1)\n",
        "\n",
        "#The original   tuple was not changed with Ratings_1's changes.\n",
        "print(Ratings_2)"
      ]
    },
    {
      "cell_type": "code",
      "execution_count": null,
      "id": "dea51c21",
      "metadata": {
        "id": "dea51c21",
        "outputId": "f1ba2c99-c3dc-40b8-c64a-848799317102"
      },
      "outputs": [
        {
          "name": "stdout",
          "output_type": "stream",
          "text": [
            "1\n"
          ]
        }
      ],
      "source": [
        "#Nesting in tuples\n",
        "#Tuple[index_1][index+2]...\n",
        "score = ((1,2),(3,4),(5,6))\n",
        "a = score[0][0]\n",
        "print(a)"
      ]
    },
    {
      "cell_type": "markdown",
      "id": "b7bae0e8",
      "metadata": {
        "id": "b7bae0e8"
      },
      "source": [
        "- Lists"
      ]
    },
    {
      "cell_type": "code",
      "source": [
        "#Format of Lists\n",
        "name = [\"Jack\",\"Ann\",\"David\"]\n",
        "\n",
        "#all types can be included in a list\n",
        "l1 = [\"number\",1.0,2,(\"A\",1)]"
      ],
      "metadata": {
        "id": "RNHfjsZhvYxl"
      },
      "id": "RNHfjsZhvYxl",
      "execution_count": null,
      "outputs": []
    },
    {
      "cell_type": "markdown",
      "source": [
        "\\*Lists are mutable: we can edit the element within a list"
      ],
      "metadata": {
        "id": "tMXw5usu2tXv"
      },
      "id": "tMXw5usu2tXv"
    },
    {
      "cell_type": "code",
      "source": [
        "#Concatenate lists (+)\n",
        "list1 = [\"0.0\",1]\n",
        "list2 = list1 + [2.0,\"3\"]\n",
        "print(list2)\n",
        "\n",
        "#Extend lists\n",
        "#list.extend(new_list)\n",
        "ls =[0,1,2,3]\n",
        "ls.extend([4,5])\n",
        "print(ls)\n",
        "\n",
        "#Append lists\n",
        "#list.append(single_element)\n",
        "ls =[0,1,2,3]\n",
        "ls.append([4,5])\n",
        "print(ls)"
      ],
      "metadata": {
        "colab": {
          "base_uri": "https://localhost:8080/"
        },
        "id": "MNtYeh4Ywyxd",
        "outputId": "60f881be-c458-4b39-b239-8ac20ad1b5bc"
      },
      "id": "MNtYeh4Ywyxd",
      "execution_count": null,
      "outputs": [
        {
          "output_type": "stream",
          "name": "stdout",
          "text": [
            "['0.0', 1, 2.0, '3']\n",
            "[0, 1, 2, 3, 4, 5]\n",
            "[0, 1, 2, 3, [4, 5]]\n",
            "[0, 1, 2]\n",
            "[3, 4, 5]\n"
          ]
        }
      ]
    },
    {
      "cell_type": "code",
      "source": [
        "#Nesting in lists\n",
        "#List[index_1][index_2]...\n",
        "num = [[1,2],[3,4],[5,6]]\n",
        "a = num[0][0]\n",
        "print(a)\n",
        "\n",
        "#Slicing lists\n",
        "#List[index_begin:index_end+1]\n",
        "ls = [0,1,2,3,4,5]\n",
        "print(ls[0:3])\n",
        "print(ls[3:6])"
      ],
      "metadata": {
        "colab": {
          "base_uri": "https://localhost:8080/"
        },
        "id": "92C8Ff4qv5Xt",
        "outputId": "cc34ff8e-2214-4d5b-bd28-f9f6a65668b1"
      },
      "id": "92C8Ff4qv5Xt",
      "execution_count": null,
      "outputs": [
        {
          "output_type": "stream",
          "name": "stdout",
          "text": [
            "1\n",
            "[0, 1, 2]\n",
            "[3, 4, 5]\n"
          ]
        }
      ]
    },
    {
      "cell_type": "code",
      "source": [
        "#Change elements in lists\n",
        "#List[index] = ...\n",
        "a = [\"Dogs\",\"Birds\"]\n",
        "a[0] = \"Cats\"\n",
        "print(a)\n",
        "\n",
        "#Delete elements in lists\n",
        "#del[List[index]]\n",
        "del[a[0]]\n",
        "print(a)"
      ],
      "metadata": {
        "colab": {
          "base_uri": "https://localhost:8080/"
        },
        "id": "cmxo_KCt3E7F",
        "outputId": "34800225-6e44-4ebf-cf10-81d2042d3678"
      },
      "id": "cmxo_KCt3E7F",
      "execution_count": null,
      "outputs": [
        {
          "output_type": "stream",
          "name": "stdout",
          "text": [
            "['Cats', 'Birds']\n",
            "['Birds']\n"
          ]
        }
      ]
    },
    {
      "cell_type": "code",
      "source": [
        "#Split strings to lists\n",
        "#\"String\".split(\"delimiter\")\n",
        "\"Billy is a good dog\".split(\" \")"
      ],
      "metadata": {
        "colab": {
          "base_uri": "https://localhost:8080/"
        },
        "id": "PcsXp9YP3cVA",
        "outputId": "179e61c9-4f73-45f6-d2f4-4c3196ae94ab"
      },
      "id": "PcsXp9YP3cVA",
      "execution_count": null,
      "outputs": [
        {
          "output_type": "execute_result",
          "data": {
            "text/plain": [
              "['Billy', 'is', 'a', 'good', 'dog']"
            ]
          },
          "metadata": {},
          "execution_count": 28
        }
      ]
    },
    {
      "cell_type": "markdown",
      "source": [
        "\\*Aliasing in lists"
      ],
      "metadata": {
        "id": "kdE7c8pG4WDN"
      },
      "id": "kdE7c8pG4WDN"
    },
    {
      "cell_type": "code",
      "source": [
        "#Change in st affect ls\n",
        "st = [\"Billy\",\"is\",\"not\",\"a\",\"good\",\"dog\"]\n",
        "ls = st\n",
        "print(ls)\n",
        "del(st[2])\n",
        "print(ls)"
      ],
      "metadata": {
        "colab": {
          "base_uri": "https://localhost:8080/"
        },
        "id": "g9yzGF8-4IiX",
        "outputId": "8bdc8171-9483-404b-e9e6-df28bee258cf"
      },
      "id": "g9yzGF8-4IiX",
      "execution_count": null,
      "outputs": [
        {
          "output_type": "stream",
          "name": "stdout",
          "text": [
            "['Billy', 'is', 'not', 'a', 'good', 'dog']\n",
            "['Billy', 'is', 'a', 'good', 'dog']\n"
          ]
        }
      ]
    },
    {
      "cell_type": "code",
      "source": [
        "#Clone lists\n",
        "#List_cloned = List_original[:]\n",
        "st = [\"Billy\",\"is\",\"not\",\"a\",\"good\",\"dog\"]\n",
        "ls = st[:]\n",
        "print(ls)\n",
        "del(st[2])\n",
        "print(ls)"
      ],
      "metadata": {
        "colab": {
          "base_uri": "https://localhost:8080/"
        },
        "id": "c64zkr8C4hV7",
        "outputId": "4334c8a8-0483-44ea-ef93-4a425b552226"
      },
      "id": "c64zkr8C4hV7",
      "execution_count": null,
      "outputs": [
        {
          "output_type": "stream",
          "name": "stdout",
          "text": [
            "['Billy', 'is', 'not', 'a', 'good', 'dog']\n",
            "['Billy', 'is', 'not', 'a', 'good', 'dog']\n"
          ]
        }
      ]
    },
    {
      "cell_type": "markdown",
      "source": [
        "## 4. Dictionaries (Collection_1)\n",
        "***"
      ],
      "metadata": {
        "id": "SjE1Wwgm54jl"
      },
      "id": "SjE1Wwgm54jl"
    },
    {
      "cell_type": "code",
      "source": [
        "#Format of dictionaries\n",
        "#Dict = {\"Key1\":value1,\"K2\":v2,\"K3\":v3,...}\n",
        "Birth_years = {\"Jane\":1998, \"Danny\":1990, \"Raj\":1999,\"Chris\":2001}\n",
        "\n",
        "#Get specific value\n",
        "#Dict[\"key\"]\n",
        "print(Birth_years[\"Jane\"])\n",
        "\n",
        "#Delete specific key and its value \n",
        "#del(Dict[\"key\"])\n",
        "del(Birth_years[\"Danny\"])\n",
        "print(Birth_years)\n",
        "\n",
        "#Varify the presence of a key, return boolean T/F\n",
        "#\"Key\" in Dict\n",
        "print(\"Chris\" in Birth_years)\n",
        "\n",
        "#Get the list of keys, return list with all the keys\n",
        "#Dict.keys()\n",
        "print(list(Birth_years.keys()))\n",
        "\n",
        "#Get the list of values, return list with all the values\n",
        "#Dict.values()\n",
        "print(list(Birth_years.values()))\n"
      ],
      "metadata": {
        "colab": {
          "base_uri": "https://localhost:8080/"
        },
        "id": "5Mz73FVm5IDO",
        "outputId": "c32a567d-5843-464a-bb92-7f9adea30a6b"
      },
      "id": "5Mz73FVm5IDO",
      "execution_count": null,
      "outputs": [
        {
          "output_type": "stream",
          "name": "stdout",
          "text": [
            "1998\n",
            "{'Jane': 1998, 'Raj': 1999, 'Chris': 2001}\n",
            "True\n",
            "['Jane', 'Raj', 'Chris']\n",
            "[1998, 1999, 2001]\n"
          ]
        }
      ]
    },
    {
      "cell_type": "markdown",
      "source": [
        "## 5. Sets (Collection_2)\n",
        "***"
      ],
      "metadata": {
        "id": "NtuBaMbUCYwD"
      },
      "id": "NtuBaMbUCYwD"
    },
    {
      "cell_type": "markdown",
      "source": [
        "1. Sets are a type of collections: diffrent types can be input in sets\n",
        "2. Sets are unordered: sets do not record element position\n",
        "3. Sets only contains unique elements, no duplicate elements"
      ],
      "metadata": {
        "id": "_YvJVk0QCx8p"
      },
      "id": "_YvJVk0QCx8p"
    },
    {
      "cell_type": "code",
      "source": [
        "#Format of sets\n",
        "#Set1 = {element1,element2,element3...}\n",
        "drinks = {\"Sprits\",\"Cola\",\"Ginger beer\",\"juice\",\"tea\",\"Cola\"}\n",
        "print(drinks)\n",
        "\n",
        "#typecasting\n",
        "#set(list)\n",
        "name = [\"Jason\",\"Karina\",\"Andy\",\"Jason\"]\n",
        "name_set = set(name)\n",
        "print(name_set)"
      ],
      "metadata": {
        "colab": {
          "base_uri": "https://localhost:8080/"
        },
        "id": "kDXgmJRb-eSF",
        "outputId": "e0166ccb-10d7-4d3f-e05a-665e90f720c4"
      },
      "id": "kDXgmJRb-eSF",
      "execution_count": null,
      "outputs": [
        {
          "output_type": "stream",
          "name": "stdout",
          "text": [
            "{'Sprits', 'Ginger beer', 'Cola', 'tea', 'juice'}\n",
            "{'Karina', 'Andy', 'Jason'}\n"
          ]
        }
      ]
    },
    {
      "cell_type": "code",
      "source": [
        "#Add item in sets\n",
        "#Set.add(single_element)\n",
        "name = {\"Jason\",\"Karina\",\"Andy\"}\n",
        "name.add(\"Jenny\")\n",
        "print(name)\n",
        "\n",
        "#Remove item in sets\n",
        "#Set.remove(single_element)\n",
        "name.remove(\"Jenny\")\n",
        "print(name)\n",
        "\n",
        "#Verify the presence of item in sets\n",
        "#element in set, return boolean T/F\n",
        "\"Karina\" in name"
      ],
      "metadata": {
        "colab": {
          "base_uri": "https://localhost:8080/"
        },
        "id": "311FyI99CYTR",
        "outputId": "3f31f702-5c25-4359-f030-624c265e250b"
      },
      "id": "311FyI99CYTR",
      "execution_count": null,
      "outputs": [
        {
          "output_type": "stream",
          "name": "stdout",
          "text": [
            "{'Karina', 'Andy', 'Jason', 'Jenny'}\n",
            "{'Karina', 'Andy', 'Jason'}\n"
          ]
        },
        {
          "output_type": "execute_result",
          "data": {
            "text/plain": [
              "True"
            ]
          },
          "metadata": {},
          "execution_count": 71
        }
      ]
    },
    {
      "cell_type": "code",
      "source": [
        "#Mathematical set operations\n",
        "\n",
        "#intersection of two sets\n",
        "#intersection_set = set1 & set2\n",
        "num1 = {1,3,4,5,2,6,7,0}\n",
        "num2 =  {2,3,5,7,10}\n",
        "num3 = num1 & num2\n",
        "print(num3)\n",
        "\n",
        "#union of two sets\n",
        "#union_set = set1.union(set2)\n",
        "num4 = num1.union(num2)\n",
        "print(num4)\n",
        "\n",
        "#verify subsets\n",
        "#set1.issubset(set2), returns boolean T/F\n",
        "num2.issubset(num4)"
      ],
      "metadata": {
        "colab": {
          "base_uri": "https://localhost:8080/"
        },
        "id": "ctGnRiuXEPzD",
        "outputId": "e27a427a-eea3-4cab-cc44-a7278048aeb0"
      },
      "id": "ctGnRiuXEPzD",
      "execution_count": null,
      "outputs": [
        {
          "output_type": "stream",
          "name": "stdout",
          "text": [
            "{2, 3, 5, 7}\n",
            "{0, 1, 2, 3, 4, 5, 6, 7, 10}\n"
          ]
        },
        {
          "output_type": "execute_result",
          "data": {
            "text/plain": [
              "True"
            ]
          },
          "metadata": {},
          "execution_count": 75
        }
      ]
    },
    {
      "cell_type": "markdown",
      "source": [
        "## 6. Conditions and Branching\n",
        "***"
      ],
      "metadata": {
        "id": "9Z5N3S1jGjOV"
      },
      "id": "9Z5N3S1jGjOV"
    },
    {
      "cell_type": "code",
      "source": [
        "#Comparison operators\n",
        "#equality/inequality test: ==, > , < , >= , <=, !=\n",
        "a= 6\n",
        "a==7 #return false \n",
        "a >5 #return true\n",
        "a <= 4.0 #return false\n",
        "a !=6.0 #return false\n",
        "\n",
        "#Comparing strings using the operators\n",
        "\"AC/DC\" == \"Michael\" #false\n",
        "\"AC/DC\" != \"Michael\" #true"
      ],
      "metadata": {
        "colab": {
          "base_uri": "https://localhost:8080/"
        },
        "id": "b9W9-Wy4FnYT",
        "outputId": "09e131e1-4fd4-4d5c-e426-5f37a7f8b735"
      },
      "id": "b9W9-Wy4FnYT",
      "execution_count": null,
      "outputs": [
        {
          "output_type": "execute_result",
          "data": {
            "text/plain": [
              "True"
            ]
          },
          "metadata": {},
          "execution_count": 84
        }
      ]
    },
    {
      "cell_type": "code",
      "source": [
        "#If/elif Statement\n",
        "\n",
        "\"\"\"\n",
        "Format:  if (...):\n",
        "           [true condition_1 operations]\n",
        "         elif(...):\n",
        "           [true condition_2 operations]\n",
        "         else:\n",
        "           [false condition operations]\n",
        "\"\"\"\n",
        "\n",
        "age = 19\n",
        "\n",
        "if(age > 18):\n",
        "  print(\"lets go to a bar\")\n",
        "\n",
        "elif(age == 18):\n",
        "  print(\"lets play board games\")\n",
        "        \n",
        "else:\n",
        "  print(\"lets go to disney land\")\n",
        "\n",
        "\n",
        "# or/and operators\n",
        "\n",
        "True or False #return True\n",
        "False or False #return False\n",
        "\n",
        "True and False #return False\n",
        "True and True #return True\n",
        "True & True #return True"
      ],
      "metadata": {
        "colab": {
          "base_uri": "https://localhost:8080/"
        },
        "id": "csE-ELL_Gi_a",
        "outputId": "e133d36d-acf8-437c-a63e-948136672c86"
      },
      "id": "csE-ELL_Gi_a",
      "execution_count": null,
      "outputs": [
        {
          "output_type": "stream",
          "name": "stdout",
          "text": [
            "lets go to a bar\n"
          ]
        },
        {
          "output_type": "execute_result",
          "data": {
            "text/plain": [
              "True"
            ]
          },
          "metadata": {},
          "execution_count": 108
        }
      ]
    },
    {
      "cell_type": "code",
      "source": [
        ""
      ],
      "metadata": {
        "id": "VqmnjZYGURKK"
      },
      "id": "VqmnjZYGURKK",
      "execution_count": null,
      "outputs": []
    },
    {
      "cell_type": "markdown",
      "source": [
        "## 7. Loops (For& While loops)\n",
        "***"
      ],
      "metadata": {
        "id": "EtvSRkSOgd12"
      },
      "id": "EtvSRkSOgd12"
    },
    {
      "cell_type": "code",
      "source": [
        "#Range function\n",
        "\n",
        "#range(number)\n",
        "for x in range(3): \n",
        "  print (x)\n",
        "\n",
        "#range(num1,num2), start from num1 to num2-1\n",
        "for x in range(8,10):\n",
        "  print (x)\n"
      ],
      "metadata": {
        "colab": {
          "base_uri": "https://localhost:8080/"
        },
        "id": "T4iVYwslghVB",
        "outputId": "04b1f15f-7531-4ed1-93f9-ff7d3d8b07d7"
      },
      "id": "T4iVYwslghVB",
      "execution_count": null,
      "outputs": [
        {
          "output_type": "stream",
          "name": "stdout",
          "text": [
            "0\n",
            "1\n",
            "2\n",
            "8\n",
            "9\n"
          ]
        }
      ]
    },
    {
      "cell_type": "markdown",
      "source": [
        "- For loops"
      ],
      "metadata": {
        "id": "h7fG0emdhuLv"
      },
      "id": "h7fG0emdhuLv"
    },
    {
      "cell_type": "code",
      "source": [
        "#For loop\n",
        "\"\"\"\n",
        "for x in range(x):\n",
        " operations with x\n",
        "\"\"\"\n",
        "\n",
        "color = [\"red\", \"yellow\",\"blue\",\"purple\"]\n",
        "\n",
        "for i in range (0,4):\n",
        "  color[i] = \"black\"\n",
        "print(color)\n",
        "\n",
        "#Enumerate\n",
        "\"\"\"\n",
        "for iteration,x in enumerate(list)\n",
        "# operations with i & x\n",
        "\"\"\"\n",
        "\n",
        "for i,x in enumerate(['A','B','C']):\n",
        "    print(i,x)"
      ],
      "metadata": {
        "colab": {
          "base_uri": "https://localhost:8080/"
        },
        "id": "vUqsnBUjg7IQ",
        "outputId": "f72d9782-aa99-4821-a1c2-2d37f1d0947b"
      },
      "id": "vUqsnBUjg7IQ",
      "execution_count": null,
      "outputs": [
        {
          "output_type": "stream",
          "name": "stdout",
          "text": [
            "['black', 'black', 'black', 'black']\n",
            "0 A\n",
            "1 B\n",
            "2 C\n"
          ]
        }
      ]
    },
    {
      "cell_type": "markdown",
      "source": [
        "- While loop"
      ],
      "metadata": {
        "id": "R7pXruAMj7jG"
      },
      "id": "R7pXruAMj7jG"
    },
    {
      "cell_type": "code",
      "source": [
        "# while (condition):\n",
        "#   operations\n",
        "\n",
        "animals = [\"dog\",\"cat\",\"pig\",\"dog\",\"dog\",\"bird\",\"dog\"]\n",
        "i=0\n",
        "\n",
        "while (animals[i] != \"bird\"):\n",
        "  print(\"Not a bird\")\n",
        "  i = i+1\n",
        "print(\"Find a bird at the {}th time\".format(i+1)) "
      ],
      "metadata": {
        "colab": {
          "base_uri": "https://localhost:8080/"
        },
        "id": "gJBtbmikiQ6r",
        "outputId": "2ac7ce41-7796-4d17-8c3b-9d715eb085aa"
      },
      "id": "gJBtbmikiQ6r",
      "execution_count": null,
      "outputs": [
        {
          "output_type": "stream",
          "name": "stdout",
          "text": [
            "Not a bird\n",
            "Not a bird\n",
            "Not a bird\n",
            "Not a bird\n",
            "Not a bird\n",
            "Find a bird at the 6th time\n"
          ]
        }
      ]
    },
    {
      "cell_type": "markdown",
      "source": [
        "## 8. Functions\n",
        "***"
      ],
      "metadata": {
        "id": "8uEUqNQEnwzl"
      },
      "id": "8uEUqNQEnwzl"
    },
    {
      "cell_type": "markdown",
      "source": [
        "- Build-in Functions"
      ],
      "metadata": {
        "id": "Mmb3AS2cCFEE"
      },
      "id": "Mmb3AS2cCFEE"
    },
    {
      "cell_type": "code",
      "source": [
        "#length of sequence/collection\n",
        "#len(list)\n",
        "ratings = [2,1.3,1.1]\n",
        "l = len(ratings)\n",
        "print(l)\n",
        "\n",
        "#sum of sequence/collection\n",
        "#sum(list)\n",
        "s = sum(ratings)\n",
        "print(s)\n",
        "\n",
        "#sort lists\n",
        "#1. sorted(list), return a new list, not change the original one\n",
        "sorted_ratings = sorted(ratings)\n",
        "print(sorted_ratings)\n",
        "#2. list.sort(), return the original sorted list, no new list created\n",
        "ratings.sort()\n",
        "print(ratings)\n"
      ],
      "metadata": {
        "colab": {
          "base_uri": "https://localhost:8080/"
        },
        "id": "jFGVj7AdlSC3",
        "outputId": "d9606a7b-93ef-4dc8-928b-c21d211807a5"
      },
      "id": "jFGVj7AdlSC3",
      "execution_count": null,
      "outputs": [
        {
          "output_type": "stream",
          "name": "stdout",
          "text": [
            "3\n",
            "4.4\n",
            "[1.1, 1.3, 2]\n",
            "[1.1, 1.3, 2]\n"
          ]
        }
      ]
    },
    {
      "cell_type": "markdown",
      "source": [
        "- Define own funcation"
      ],
      "metadata": {
        "id": "rVvjjJ3ZEPdT"
      },
      "id": "rVvjjJ3ZEPdT"
    },
    {
      "cell_type": "code",
      "source": [
        "# Format\n",
        "\"\"\"\n",
        " def function_name (input):\n",
        "   operations\n",
        "   return output\n",
        "\"\"\"\n",
        "\n",
        "def add_four (num):\n",
        "  \"\"\"\n",
        "  add 4 to a number\n",
        "  \"\"\"\n",
        "  output = num+4\n",
        "  return output\n",
        "\n",
        "print(add_four(1))\n",
        "help(add_four)\n",
        "\n",
        "# Define with multiple variables\n",
        "\"\"\"\n",
        " def function_name (input_1,input2):\n",
        "   operations\n",
        "   return output\n",
        "\"\"\"\n",
        "\n",
        "#Define function without output  \n",
        "def NoWork ():\n",
        "  pass\n",
        "#automatically return none\n",
        "print(NoWork())"
      ],
      "metadata": {
        "colab": {
          "base_uri": "https://localhost:8080/"
        },
        "id": "FA5kq5BrnzP9",
        "outputId": "f9dadaf4-2d61-4831-a113-163c4c2cbf77"
      },
      "id": "FA5kq5BrnzP9",
      "execution_count": null,
      "outputs": [
        {
          "output_type": "stream",
          "name": "stdout",
          "text": [
            "5\n",
            "Help on function add_four in module __main__:\n",
            "\n",
            "add_four(num)\n",
            "    add 4 to a number\n",
            "\n",
            "None\n"
          ]
        }
      ]
    },
    {
      "cell_type": "markdown",
      "source": [
        ""
      ],
      "metadata": {
        "id": "qDdlgpDp4qtt"
      },
      "id": "qDdlgpDp4qtt"
    },
    {
      "cell_type": "markdown",
      "source": [
        "## 9. Exceptions\n",
        "***"
      ],
      "metadata": {
        "id": "LWnkCgpjIt4E"
      },
      "id": "LWnkCgpjIt4E"
    },
    {
      "cell_type": "code",
      "source": [
        "#Try Except statment\n",
        "\n",
        "#x = 3\n",
        "try:\n",
        "  print(x)\n",
        "except NameError:\n",
        "  print(\"Variable x is not defined\")\n",
        "except:\n",
        "  print(\"Something else went wrong\")\n",
        "finally: # operations no matter what the result is\n",
        "  print(\"Done\")\n"
      ],
      "metadata": {
        "id": "gAgvD3deELS_",
        "colab": {
          "base_uri": "https://localhost:8080/"
        },
        "outputId": "81e7595a-e266-4de8-d6b6-8ff276da4d88"
      },
      "id": "gAgvD3deELS_",
      "execution_count": null,
      "outputs": [
        {
          "output_type": "stream",
          "name": "stdout",
          "text": [
            "3\n",
            "Done\n"
          ]
        }
      ]
    },
    {
      "cell_type": "markdown",
      "source": [
        "## 10. Objects & Classes\n",
        "***"
      ],
      "metadata": {
        "id": "aRaknlsU4OOt"
      },
      "id": "aRaknlsU4OOt"
    },
    {
      "cell_type": "markdown",
      "source": [
        "Every object has the following:\n",
        "- a type, \n",
        "- an internal representation (blueprint), \n",
        "- a set of functions (methods)\n",
        "\n",
        "\\\n",
        "An object is an instance of a particular type."
      ],
      "metadata": {
        "id": "awpdnjri6eDz"
      },
      "id": "awpdnjri6eDz"
    },
    {
      "cell_type": "code",
      "source": [
        "#Find the type of an object\n",
        "#type()\n",
        "type(2)\n"
      ],
      "metadata": {
        "id": "ROR2wUHdIvNV",
        "colab": {
          "base_uri": "https://localhost:8080/"
        },
        "outputId": "f4bf4f27-2ab4-444d-897b-0cb9b0f4b82d"
      },
      "id": "ROR2wUHdIvNV",
      "execution_count": null,
      "outputs": [
        {
          "output_type": "execute_result",
          "data": {
            "text/plain": [
              "int"
            ]
          },
          "metadata": {},
          "execution_count": 11
        }
      ]
    },
    {
      "cell_type": "code",
      "source": [
        "#Methods\n",
        "# a class or type's methods are functions that every instance of that clas or type provides.\n",
        "#i.e. List.sort()\n",
        "ls = [9,1,2,3,0,5]\n",
        "ls.sort()\n",
        "print(ls)\n",
        "\n",
        "#i.e. List.reverse()\n",
        "ls.reverse()\n",
        "print(ls)\n"
      ],
      "metadata": {
        "colab": {
          "base_uri": "https://localhost:8080/"
        },
        "id": "kgOx_hk94JUh",
        "outputId": "b95cd839-347d-42f0-f3be-646aa95c1ef8"
      },
      "id": "kgOx_hk94JUh",
      "execution_count": null,
      "outputs": [
        {
          "output_type": "stream",
          "name": "stdout",
          "text": [
            "[0, 1, 2, 3, 5, 9]\n",
            "[9, 5, 3, 2, 1, 0]\n"
          ]
        }
      ]
    },
    {
      "cell_type": "code",
      "source": [
        "#Defining own class\n",
        "#Class: Data attributes + Methods\n",
        "#Class_Def Class_Name(Class_parent):\n",
        "\n",
        "class Person:\n",
        "  #inituallize attributes\n",
        "  def __init__(self, name, age):\n",
        "    self.name = name\n",
        "    self.age = age\n",
        "  \n",
        "  #methods\n",
        "  def getName(self):\n",
        "    print(\"His/Her name is\", self.name)\n",
        "\n",
        "Person_1 = Person(\"John\", 36)\n",
        "Person_1.getName()\n",
        "\n",
        "class pet:\n",
        "  def __init__(self, name, breed):\n",
        "    self.name = name\n",
        "    self.breed = breed\n",
        "\n",
        "  def getInfo(self):\n",
        "    print(self.name, \" is a \", self.breed)\n",
        "    return(\"Done\")\n",
        "    \n",
        "\n",
        "Pet_1 = pet(\"Pooh\",\"Corgi\")\n",
        "\n",
        "Pet_1.name = \"Winnie\"\n",
        "Pet_1.getInfo()\n",
        "\n",
        "#dir(Name_of_object): prinr methods associatre with the class of the object\n",
        "dir(Person)\n"
      ],
      "metadata": {
        "colab": {
          "base_uri": "https://localhost:8080/"
        },
        "id": "Pk2dCO0h4Nj8",
        "outputId": "43fe074f-2582-42e7-e9cd-6342f274c6b6"
      },
      "id": "Pk2dCO0h4Nj8",
      "execution_count": null,
      "outputs": [
        {
          "output_type": "stream",
          "name": "stdout",
          "text": [
            "His/Her name is John\n",
            "Winnie  is a  Corgi\n"
          ]
        },
        {
          "output_type": "execute_result",
          "data": {
            "text/plain": [
              "['__class__',\n",
              " '__delattr__',\n",
              " '__dict__',\n",
              " '__dir__',\n",
              " '__doc__',\n",
              " '__eq__',\n",
              " '__format__',\n",
              " '__ge__',\n",
              " '__getattribute__',\n",
              " '__gt__',\n",
              " '__hash__',\n",
              " '__init__',\n",
              " '__init_subclass__',\n",
              " '__le__',\n",
              " '__lt__',\n",
              " '__module__',\n",
              " '__ne__',\n",
              " '__new__',\n",
              " '__reduce__',\n",
              " '__reduce_ex__',\n",
              " '__repr__',\n",
              " '__setattr__',\n",
              " '__sizeof__',\n",
              " '__str__',\n",
              " '__subclasshook__',\n",
              " '__weakref__',\n",
              " 'getName']"
            ]
          },
          "metadata": {},
          "execution_count": 29
        }
      ]
    },
    {
      "cell_type": "markdown",
      "source": [
        ""
      ],
      "metadata": {
        "id": "AsuekQLkZPFY"
      },
      "id": "AsuekQLkZPFY"
    },
    {
      "cell_type": "markdown",
      "source": [
        "## 11. Reading & Writing files with 'open'\n",
        "***"
      ],
      "metadata": {
        "id": "x0XO4ezQZZQ6"
      },
      "id": "x0XO4ezQZZQ6"
    },
    {
      "cell_type": "markdown",
      "source": [
        "- Reading Files"
      ],
      "metadata": {
        "id": "sMa6NyA-RHRh"
      },
      "id": "sMa6NyA-RHRh"
    },
    {
      "cell_type": "code",
      "source": [
        "from google.colab import drive\n",
        "drive.mount('/content/drive')"
      ],
      "metadata": {
        "colab": {
          "base_uri": "https://localhost:8080/"
        },
        "id": "nfbFn-VgShMC",
        "outputId": "a506c37c-5c75-4258-f0c5-5c3a228b0151"
      },
      "id": "nfbFn-VgShMC",
      "execution_count": null,
      "outputs": [
        {
          "output_type": "stream",
          "name": "stdout",
          "text": [
            "Drive already mounted at /content/drive; to attempt to forcibly remount, call drive.mount(\"/content/drive\", force_remount=True).\n"
          ]
        }
      ]
    },
    {
      "cell_type": "code",
      "source": [
        "#using open operator\n",
        "#Creating file object:  File_example = open.(\"file_directory/.../file_name\",\"mode\")\n",
        "#'r' Read mode for reading files\n",
        "#'w' Write mode for writing files\n",
        "FileEg=open(\"/content/sample_data/README.md\",\"r\")\n",
        "\n",
        "#File operation operations\n",
        "#return the name attribute of the file: File_example.name --> return a string contains the name of the file\n",
        "print(FileEg.name)\n",
        "#return the mode attribute of the file: File_example.mode --> return a string contains the mode of the file\n",
        "print(FileEg.mode)\n",
        "#remember to always close the file object using: File_example.close()\n",
        "FileEg.close()"
      ],
      "metadata": {
        "id": "tYC5hAdh4O_6",
        "colab": {
          "base_uri": "https://localhost:8080/"
        },
        "outputId": "1bfaa295-5f02-45dd-a4dc-351f865453b9"
      },
      "id": "tYC5hAdh4O_6",
      "execution_count": null,
      "outputs": [
        {
          "output_type": "stream",
          "name": "stdout",
          "text": [
            "/content/sample_data/README.md\n",
            "r\n"
          ]
        }
      ]
    },
    {
      "cell_type": "code",
      "source": [
        "#Using 'with' statement, automatically close the file\n",
        "with open(\"/content/drive/MyDrive/TestFile.txt\",\"r\") as FileEg:\n",
        "\n",
        "  #File.read() stores the value of the file open\n",
        "  file_stuff = FileEg.read()\n",
        "  print(file_stuff)\n",
        "\n",
        "#'File.closed' checks if the file is closed\n",
        "print(FileEg.closed , \"\\n\")\n",
        "\n",
        "#'File.readline()' read the file line by line\n",
        "with open(\"/content/drive/MyDrive/TestFile.txt\",\"r\") as FileEg:\n",
        "  print(\"Print the line\")\n",
        "  file_stuff = FileEg.readline()\n",
        "  print(file_stuff)\n",
        "\n",
        "  print(\"Print the next line\")\n",
        "  file_stuff = FileEg.readline()\n",
        "  print(file_stuff)\n",
        "\n",
        "  print(\"Print the next line\")\n",
        "  file_stuff = FileEg.readline()\n",
        "  print(file_stuff)\n",
        "  print(\"\\n\")\n",
        "\n",
        "#Using a loop to print each line\n",
        "with open(\"/content/drive/MyDrive/TestFile.txt\",\"r\") as FileEg:\n",
        "  print(\"Print the lines using a loop:\\n\")\n",
        "  for line in FileEg:\n",
        "    print(line)\n",
        "print(\"\\n\")\n",
        "\n",
        "#Print specific positions\n",
        "with open(\"/content/drive/MyDrive/TestFile.txt\",\"r\") as FileEg:\n",
        "  print(\"Print the line\")\n",
        "  file_stuff = FileEg.readline(6)\n",
        "  print(file_stuff)"
      ],
      "metadata": {
        "colab": {
          "base_uri": "https://localhost:8080/"
        },
        "id": "NW7cVhxEZXYo",
        "outputId": "b639a7c3-45bc-4d50-917a-72b291b9a565"
      },
      "id": "NW7cVhxEZXYo",
      "execution_count": null,
      "outputs": [
        {
          "output_type": "stream",
          "name": "stdout",
          "text": [
            "Line 1: “This is a test file”\n",
            "Line 2: \"Hello World\"\n",
            "Line 3: \"You may now close the file\"\n",
            "True \n",
            "\n",
            "Print the line\n",
            "Line 1: “This is a test file”\n",
            "\n",
            "Print the next line\n",
            "Line 2: \"Hello World\"\n",
            "\n",
            "Print the next line\n",
            "Line 3: \"You may now close the file\"\n",
            "\n",
            "\n",
            "Print the lines using a loop:\n",
            "\n",
            "Line 1: “This is a test file”\n",
            "\n",
            "Line 2: \"Hello World\"\n",
            "\n",
            "Line 3: \"You may now close the file\"\n",
            "\n",
            "\n",
            "Print the line\n",
            "Line 1\n"
          ]
        }
      ]
    },
    {
      "cell_type": "markdown",
      "source": [
        "- Writing Files"
      ],
      "metadata": {
        "id": "lBJ0OaXsRLgF"
      },
      "id": "lBJ0OaXsRLgF"
    },
    {
      "cell_type": "code",
      "source": [
        "#using open operator\n",
        "#Creating file object:  File_example = open.(\"file_directory/.../file_name\",\"mode\")\n",
        "#'r' Read mode for reading files\n",
        "#'w' Write mode for writing files\n",
        "FileEg2=open(\"/content/drive/MyDrive/TestFile_2.txt\",\"w\")\n",
        "\n",
        "FileEg2.write(\"This is line A\\n\")\n",
        "FileEg2.write(\"This is line B\\n\")\n",
        "FileEg2.close()\n",
        "\n",
        "FileEg2=open(\"/content/drive/MyDrive/TestFile_2.txt\",\"r\")\n",
        "File_stuff_2 = FileEg2.read()\n",
        "print(File_stuff_2)\n",
        "FileEg2.close()\n",
        "\n",
        "#using for loop and with statement to write to file\n",
        "Lines = \"1\\n\",\"2\\n\",\"3\\n\"\n",
        "with open(\"/content/drive/MyDrive/TestFile_3.txt\",\"w\") as File1:\n",
        "  for line in Lines:\n",
        "    File1.write(line)\n",
        "\n",
        "with open (\"/content/drive/MyDrive/TestFile_3.txt\",\"r\") as File1:\n",
        "  file_stuff = File1.read()\n",
        "  print(file_stuff)\n"
      ],
      "metadata": {
        "id": "-OpkViOGitK2",
        "colab": {
          "base_uri": "https://localhost:8080/"
        },
        "outputId": "ec6fc29e-3d76-47d6-c4b9-c800a5f93aba"
      },
      "id": "-OpkViOGitK2",
      "execution_count": null,
      "outputs": [
        {
          "output_type": "stream",
          "name": "stdout",
          "text": [
            "This is line A\n",
            "This is line B\n",
            "\n",
            "1\n",
            "2\n",
            "3\n",
            "\n"
          ]
        }
      ]
    },
    {
      "cell_type": "code",
      "source": [
        "#append to a file\n",
        "with open(\"/content/drive/MyDrive/TestFile_3.txt\",\"a\") as File1:\n",
        "  File1.write(\"4\\n\")\n",
        "\n",
        "with open (\"/content/drive/MyDrive/TestFile_3.txt\",\"r\") as File1:\n",
        "  file_stuff = File1.read()\n",
        "  print(file_stuff)"
      ],
      "metadata": {
        "colab": {
          "base_uri": "https://localhost:8080/"
        },
        "id": "b3ov6qIHR36K",
        "outputId": "977aa949-c6bc-49d4-947f-7c784ef25f34"
      },
      "id": "b3ov6qIHR36K",
      "execution_count": null,
      "outputs": [
        {
          "output_type": "stream",
          "name": "stdout",
          "text": [
            "1\n",
            "2\n",
            "3\n",
            "4\n",
            "\n"
          ]
        }
      ]
    },
    {
      "cell_type": "code",
      "source": [
        "#Copy one file to another\n",
        "\n",
        "#read the original file\n",
        "with open(\"/content/drive/MyDrive/TestFile_3.txt\",\"r\") as file_1:\n",
        "  with open(\"/content/drive/MyDrive/TestFile_3_copy.txt\",\"w\") as file_2:\n",
        "    for line in file_1:\n",
        "      file_2.write(line)\n",
        "\n",
        "#check:\n",
        "with open (\"/content/drive/MyDrive/TestFile_3_copy.txt\",\"r\") as File1:\n",
        "  file_stuff = File1.read()\n",
        "  print(file_stuff)"
      ],
      "metadata": {
        "colab": {
          "base_uri": "https://localhost:8080/"
        },
        "id": "z43yOraxWS_w",
        "outputId": "254b276e-08b2-44f8-c436-e79bef552878"
      },
      "id": "z43yOraxWS_w",
      "execution_count": null,
      "outputs": [
        {
          "output_type": "stream",
          "name": "stdout",
          "text": [
            "1\n",
            "2\n",
            "3\n",
            "4\n",
            "\n"
          ]
        }
      ]
    },
    {
      "cell_type": "markdown",
      "source": [
        "## 12. Pandas\n",
        "***"
      ],
      "metadata": {
        "id": "SP6EjckYXPHm"
      },
      "id": "SP6EjckYXPHm"
    },
    {
      "cell_type": "code",
      "source": [
        "#import library with shortened name\n",
        "import pandas as pd\n",
        "path = \"/content/sample_data/mnist_test.csv\"\n",
        "\n",
        "#using pandas.read_csv(filepath) to create dataframe\n",
        "#Similarly for excel:use pandas.read_excel(filepath)\n",
        "dataframe_eg = pd.read_csv(path)\n",
        "\n",
        "# Get first 5 rows of the dataset\n",
        "dataframe_eg.head()\n",
        "\n",
        "#Creating dataframe using dictionary:\n",
        "#Creating a dictionary\n",
        "Students={\"Name\":[\"Jason\",\"Abby\",\"Peter\"],\"Age\":[22,17,18],\"Gender\":[\"M\",\"F\",\"M\"]}\n",
        "#using pandas.DataFrame(Dictionary) to cast to a dataframe\n",
        "Students_df = pd.DataFrame(Students)\n",
        "\n",
        "#Extracting a single column as a new dataframe\n",
        "#new_df = Original_df[[\"column\"]]\n",
        "Age_df = Students_df[[\"Age\"]]\n"
      ],
      "metadata": {
        "id": "rJFxAaZNW7ZK"
      },
      "id": "rJFxAaZNW7ZK",
      "execution_count": null,
      "outputs": []
    },
    {
      "cell_type": "code",
      "source": [
        "#Sample dataset\n",
        "Dogs={\"Name\":[\"Cherry\",\"Shirley\",\"Winnie\",\"Pichu\",\"Jax\"],\"Age\":[1,2,3,5,2],\"Breed\":[\"Poodle\",\"Golden Retriever\",\"Husky\",\"Corgi\",\"Malzis\"],\"Owner\":[\"Lee\",\"Patrick\",\"Jason\",\"Cody\",\"Andy\"]}\n",
        "Dogs_df = pd.DataFrame(Dogs) \n",
        "\n",
        "#Finding the unique elements in dataframe\n",
        "#dataframe.unique()\n",
        "Dogs_df['Age'].unique()\n",
        "Ages_df = Dogs_df['Age']\n",
        "\n",
        "Olders_Dogs_df = Dogs_df[Ages_df>2]\n",
        "Olders_Dogs_df.to_csv(\"/content/drive/MyDrive/older_dogs.csv\")\n",
        "\n"
      ],
      "metadata": {
        "id": "vTIyGkcjXcww"
      },
      "id": "vTIyGkcjXcww",
      "execution_count": null,
      "outputs": []
    },
    {
      "cell_type": "code",
      "source": [
        "#Accessing single elements using: dataframe_name.iloc[row_index,colomn_index]\n",
        "#1st row & 1st colomn\n",
        "Dogs_df.iloc[0,0]\n",
        "#2nd row & 1st colomn\n",
        "Dogs_df.iloc[1,0]\n"
      ],
      "metadata": {
        "colab": {
          "base_uri": "https://localhost:8080/",
          "height": 37
        },
        "id": "nBldM74cbwqj",
        "outputId": "16bad610-b84e-4969-88f5-b1672c459605"
      },
      "id": "nBldM74cbwqj",
      "execution_count": null,
      "outputs": [
        {
          "output_type": "execute_result",
          "data": {
            "application/vnd.google.colaboratory.intrinsic+json": {
              "type": "string"
            },
            "text/plain": [
              "'Shirley'"
            ]
          },
          "metadata": {},
          "execution_count": 94
        }
      ]
    },
    {
      "cell_type": "code",
      "source": [
        "#Accessing single elements using: dataframe_name.loc[row_index,colomn_name]\n",
        "#1st element of the Owner colomn\n",
        "Dogs_df.loc[0,\"Owner\"]\n",
        "#3rd element of the Breed colomn\n",
        "Dogs_df.loc[2,\"Breed\"]"
      ],
      "metadata": {
        "colab": {
          "base_uri": "https://localhost:8080/",
          "height": 37
        },
        "id": "sm59kqFtmjUc",
        "outputId": "266115eb-e136-4fdc-c0fc-8d41c45e8aaa"
      },
      "id": "sm59kqFtmjUc",
      "execution_count": null,
      "outputs": [
        {
          "output_type": "execute_result",
          "data": {
            "application/vnd.google.colaboratory.intrinsic+json": {
              "type": "string"
            },
            "text/plain": [
              "'Husky'"
            ]
          },
          "metadata": {},
          "execution_count": 95
        }
      ]
    },
    {
      "cell_type": "code",
      "source": [
        "#Slicing the dataframe using index \n",
        "#not including index 2\n",
        "Dogs_df.iloc[0:2,0:2]"
      ],
      "metadata": {
        "colab": {
          "base_uri": "https://localhost:8080/",
          "height": 111
        },
        "id": "H8pFo7sXmskH",
        "outputId": "bec9c182-24f8-497c-f442-8d5ed41b2a91"
      },
      "id": "H8pFo7sXmskH",
      "execution_count": null,
      "outputs": [
        {
          "output_type": "execute_result",
          "data": {
            "text/html": [
              "\n",
              "  <div id=\"df-7ded448c-8991-4ea9-8601-e3c88fbc816a\">\n",
              "    <div class=\"colab-df-container\">\n",
              "      <div>\n",
              "<style scoped>\n",
              "    .dataframe tbody tr th:only-of-type {\n",
              "        vertical-align: middle;\n",
              "    }\n",
              "\n",
              "    .dataframe tbody tr th {\n",
              "        vertical-align: top;\n",
              "    }\n",
              "\n",
              "    .dataframe thead th {\n",
              "        text-align: right;\n",
              "    }\n",
              "</style>\n",
              "<table border=\"1\" class=\"dataframe\">\n",
              "  <thead>\n",
              "    <tr style=\"text-align: right;\">\n",
              "      <th></th>\n",
              "      <th>Name</th>\n",
              "      <th>Age</th>\n",
              "    </tr>\n",
              "  </thead>\n",
              "  <tbody>\n",
              "    <tr>\n",
              "      <th>0</th>\n",
              "      <td>Cherry</td>\n",
              "      <td>1</td>\n",
              "    </tr>\n",
              "    <tr>\n",
              "      <th>1</th>\n",
              "      <td>Shirley</td>\n",
              "      <td>2</td>\n",
              "    </tr>\n",
              "  </tbody>\n",
              "</table>\n",
              "</div>\n",
              "      <button class=\"colab-df-convert\" onclick=\"convertToInteractive('df-7ded448c-8991-4ea9-8601-e3c88fbc816a')\"\n",
              "              title=\"Convert this dataframe to an interactive table.\"\n",
              "              style=\"display:none;\">\n",
              "        \n",
              "  <svg xmlns=\"http://www.w3.org/2000/svg\" height=\"24px\"viewBox=\"0 0 24 24\"\n",
              "       width=\"24px\">\n",
              "    <path d=\"M0 0h24v24H0V0z\" fill=\"none\"/>\n",
              "    <path d=\"M18.56 5.44l.94 2.06.94-2.06 2.06-.94-2.06-.94-.94-2.06-.94 2.06-2.06.94zm-11 1L8.5 8.5l.94-2.06 2.06-.94-2.06-.94L8.5 2.5l-.94 2.06-2.06.94zm10 10l.94 2.06.94-2.06 2.06-.94-2.06-.94-.94-2.06-.94 2.06-2.06.94z\"/><path d=\"M17.41 7.96l-1.37-1.37c-.4-.4-.92-.59-1.43-.59-.52 0-1.04.2-1.43.59L10.3 9.45l-7.72 7.72c-.78.78-.78 2.05 0 2.83L4 21.41c.39.39.9.59 1.41.59.51 0 1.02-.2 1.41-.59l7.78-7.78 2.81-2.81c.8-.78.8-2.07 0-2.86zM5.41 20L4 18.59l7.72-7.72 1.47 1.35L5.41 20z\"/>\n",
              "  </svg>\n",
              "      </button>\n",
              "      \n",
              "  <style>\n",
              "    .colab-df-container {\n",
              "      display:flex;\n",
              "      flex-wrap:wrap;\n",
              "      gap: 12px;\n",
              "    }\n",
              "\n",
              "    .colab-df-convert {\n",
              "      background-color: #E8F0FE;\n",
              "      border: none;\n",
              "      border-radius: 50%;\n",
              "      cursor: pointer;\n",
              "      display: none;\n",
              "      fill: #1967D2;\n",
              "      height: 32px;\n",
              "      padding: 0 0 0 0;\n",
              "      width: 32px;\n",
              "    }\n",
              "\n",
              "    .colab-df-convert:hover {\n",
              "      background-color: #E2EBFA;\n",
              "      box-shadow: 0px 1px 2px rgba(60, 64, 67, 0.3), 0px 1px 3px 1px rgba(60, 64, 67, 0.15);\n",
              "      fill: #174EA6;\n",
              "    }\n",
              "\n",
              "    [theme=dark] .colab-df-convert {\n",
              "      background-color: #3B4455;\n",
              "      fill: #D2E3FC;\n",
              "    }\n",
              "\n",
              "    [theme=dark] .colab-df-convert:hover {\n",
              "      background-color: #434B5C;\n",
              "      box-shadow: 0px 1px 3px 1px rgba(0, 0, 0, 0.15);\n",
              "      filter: drop-shadow(0px 1px 2px rgba(0, 0, 0, 0.3));\n",
              "      fill: #FFFFFF;\n",
              "    }\n",
              "  </style>\n",
              "\n",
              "      <script>\n",
              "        const buttonEl =\n",
              "          document.querySelector('#df-7ded448c-8991-4ea9-8601-e3c88fbc816a button.colab-df-convert');\n",
              "        buttonEl.style.display =\n",
              "          google.colab.kernel.accessAllowed ? 'block' : 'none';\n",
              "\n",
              "        async function convertToInteractive(key) {\n",
              "          const element = document.querySelector('#df-7ded448c-8991-4ea9-8601-e3c88fbc816a');\n",
              "          const dataTable =\n",
              "            await google.colab.kernel.invokeFunction('convertToInteractive',\n",
              "                                                     [key], {});\n",
              "          if (!dataTable) return;\n",
              "\n",
              "          const docLinkHtml = 'Like what you see? Visit the ' +\n",
              "            '<a target=\"_blank\" href=https://colab.research.google.com/notebooks/data_table.ipynb>data table notebook</a>'\n",
              "            + ' to learn more about interactive tables.';\n",
              "          element.innerHTML = '';\n",
              "          dataTable['output_type'] = 'display_data';\n",
              "          await google.colab.output.renderOutput(dataTable, element);\n",
              "          const docLink = document.createElement('div');\n",
              "          docLink.innerHTML = docLinkHtml;\n",
              "          element.appendChild(docLink);\n",
              "        }\n",
              "      </script>\n",
              "    </div>\n",
              "  </div>\n",
              "  "
            ],
            "text/plain": [
              "      Name  Age\n",
              "0   Cherry    1\n",
              "1  Shirley    2"
            ]
          },
          "metadata": {},
          "execution_count": 96
        }
      ]
    },
    {
      "cell_type": "code",
      "source": [
        "#Slicing the dataframe using colomn names:\n",
        "#include index\n",
        "Dogs_df.loc[0:2,\"Name\":\"Age\"]"
      ],
      "metadata": {
        "colab": {
          "base_uri": "https://localhost:8080/",
          "height": 142
        },
        "id": "FdLfhRGrmsLy",
        "outputId": "e3a483fd-5a82-4313-b522-677e4b406ae2"
      },
      "id": "FdLfhRGrmsLy",
      "execution_count": null,
      "outputs": [
        {
          "output_type": "execute_result",
          "data": {
            "text/html": [
              "\n",
              "  <div id=\"df-b4b1dcf0-a981-4254-b81b-74656b21e863\">\n",
              "    <div class=\"colab-df-container\">\n",
              "      <div>\n",
              "<style scoped>\n",
              "    .dataframe tbody tr th:only-of-type {\n",
              "        vertical-align: middle;\n",
              "    }\n",
              "\n",
              "    .dataframe tbody tr th {\n",
              "        vertical-align: top;\n",
              "    }\n",
              "\n",
              "    .dataframe thead th {\n",
              "        text-align: right;\n",
              "    }\n",
              "</style>\n",
              "<table border=\"1\" class=\"dataframe\">\n",
              "  <thead>\n",
              "    <tr style=\"text-align: right;\">\n",
              "      <th></th>\n",
              "      <th>Name</th>\n",
              "      <th>Age</th>\n",
              "    </tr>\n",
              "  </thead>\n",
              "  <tbody>\n",
              "    <tr>\n",
              "      <th>0</th>\n",
              "      <td>Cherry</td>\n",
              "      <td>1</td>\n",
              "    </tr>\n",
              "    <tr>\n",
              "      <th>1</th>\n",
              "      <td>Shirley</td>\n",
              "      <td>2</td>\n",
              "    </tr>\n",
              "    <tr>\n",
              "      <th>2</th>\n",
              "      <td>Winnie</td>\n",
              "      <td>3</td>\n",
              "    </tr>\n",
              "  </tbody>\n",
              "</table>\n",
              "</div>\n",
              "      <button class=\"colab-df-convert\" onclick=\"convertToInteractive('df-b4b1dcf0-a981-4254-b81b-74656b21e863')\"\n",
              "              title=\"Convert this dataframe to an interactive table.\"\n",
              "              style=\"display:none;\">\n",
              "        \n",
              "  <svg xmlns=\"http://www.w3.org/2000/svg\" height=\"24px\"viewBox=\"0 0 24 24\"\n",
              "       width=\"24px\">\n",
              "    <path d=\"M0 0h24v24H0V0z\" fill=\"none\"/>\n",
              "    <path d=\"M18.56 5.44l.94 2.06.94-2.06 2.06-.94-2.06-.94-.94-2.06-.94 2.06-2.06.94zm-11 1L8.5 8.5l.94-2.06 2.06-.94-2.06-.94L8.5 2.5l-.94 2.06-2.06.94zm10 10l.94 2.06.94-2.06 2.06-.94-2.06-.94-.94-2.06-.94 2.06-2.06.94z\"/><path d=\"M17.41 7.96l-1.37-1.37c-.4-.4-.92-.59-1.43-.59-.52 0-1.04.2-1.43.59L10.3 9.45l-7.72 7.72c-.78.78-.78 2.05 0 2.83L4 21.41c.39.39.9.59 1.41.59.51 0 1.02-.2 1.41-.59l7.78-7.78 2.81-2.81c.8-.78.8-2.07 0-2.86zM5.41 20L4 18.59l7.72-7.72 1.47 1.35L5.41 20z\"/>\n",
              "  </svg>\n",
              "      </button>\n",
              "      \n",
              "  <style>\n",
              "    .colab-df-container {\n",
              "      display:flex;\n",
              "      flex-wrap:wrap;\n",
              "      gap: 12px;\n",
              "    }\n",
              "\n",
              "    .colab-df-convert {\n",
              "      background-color: #E8F0FE;\n",
              "      border: none;\n",
              "      border-radius: 50%;\n",
              "      cursor: pointer;\n",
              "      display: none;\n",
              "      fill: #1967D2;\n",
              "      height: 32px;\n",
              "      padding: 0 0 0 0;\n",
              "      width: 32px;\n",
              "    }\n",
              "\n",
              "    .colab-df-convert:hover {\n",
              "      background-color: #E2EBFA;\n",
              "      box-shadow: 0px 1px 2px rgba(60, 64, 67, 0.3), 0px 1px 3px 1px rgba(60, 64, 67, 0.15);\n",
              "      fill: #174EA6;\n",
              "    }\n",
              "\n",
              "    [theme=dark] .colab-df-convert {\n",
              "      background-color: #3B4455;\n",
              "      fill: #D2E3FC;\n",
              "    }\n",
              "\n",
              "    [theme=dark] .colab-df-convert:hover {\n",
              "      background-color: #434B5C;\n",
              "      box-shadow: 0px 1px 3px 1px rgba(0, 0, 0, 0.15);\n",
              "      filter: drop-shadow(0px 1px 2px rgba(0, 0, 0, 0.3));\n",
              "      fill: #FFFFFF;\n",
              "    }\n",
              "  </style>\n",
              "\n",
              "      <script>\n",
              "        const buttonEl =\n",
              "          document.querySelector('#df-b4b1dcf0-a981-4254-b81b-74656b21e863 button.colab-df-convert');\n",
              "        buttonEl.style.display =\n",
              "          google.colab.kernel.accessAllowed ? 'block' : 'none';\n",
              "\n",
              "        async function convertToInteractive(key) {\n",
              "          const element = document.querySelector('#df-b4b1dcf0-a981-4254-b81b-74656b21e863');\n",
              "          const dataTable =\n",
              "            await google.colab.kernel.invokeFunction('convertToInteractive',\n",
              "                                                     [key], {});\n",
              "          if (!dataTable) return;\n",
              "\n",
              "          const docLinkHtml = 'Like what you see? Visit the ' +\n",
              "            '<a target=\"_blank\" href=https://colab.research.google.com/notebooks/data_table.ipynb>data table notebook</a>'\n",
              "            + ' to learn more about interactive tables.';\n",
              "          element.innerHTML = '';\n",
              "          dataTable['output_type'] = 'display_data';\n",
              "          await google.colab.output.renderOutput(dataTable, element);\n",
              "          const docLink = document.createElement('div');\n",
              "          docLink.innerHTML = docLinkHtml;\n",
              "          element.appendChild(docLink);\n",
              "        }\n",
              "      </script>\n",
              "    </div>\n",
              "  </div>\n",
              "  "
            ],
            "text/plain": [
              "      Name  Age\n",
              "0   Cherry    1\n",
              "1  Shirley    2\n",
              "2   Winnie    3"
            ]
          },
          "metadata": {},
          "execution_count": 99
        }
      ]
    },
    {
      "cell_type": "code",
      "source": [
        ""
      ],
      "metadata": {
        "id": "HEnshAbHm9N7"
      },
      "id": "HEnshAbHm9N7",
      "execution_count": null,
      "outputs": []
    },
    {
      "cell_type": "markdown",
      "source": [
        "##13. NumPy\n",
        "***"
      ],
      "metadata": {
        "id": "k6V4YkwXpXop"
      },
      "id": "k6V4YkwXpXop"
    },
    {
      "cell_type": "markdown",
      "source": [
        "- One Dimensional NumPy"
      ],
      "metadata": {
        "id": "BHUADccFpktF"
      },
      "id": "BHUADccFpktF"
    },
    {
      "cell_type": "code",
      "source": [
        "#Creating a Numpy Array\n",
        "#Fix in size and type of element\n",
        "\n",
        "import numpy as np\n",
        "a = np.array([0,1,2,3,4])\n",
        "\n",
        "#value of a\n",
        "a\n",
        "#type of a\n",
        "type(a)\n",
        "#type of a array's elements\n",
        "a.dtype\n",
        "#number of elements in the array\n",
        "a.size\n",
        "#number of array dimensions\n",
        "a.ndim\n",
        "#size of the a rray in each dimensions\n",
        "a.shape"
      ],
      "metadata": {
        "colab": {
          "base_uri": "https://localhost:8080/"
        },
        "id": "sVNJJ8lNplEM",
        "outputId": "d9b51507-4ee6-443b-97f7-1832365c01cc"
      },
      "id": "sVNJJ8lNplEM",
      "execution_count": null,
      "outputs": [
        {
          "output_type": "execute_result",
          "data": {
            "text/plain": [
              "(5,)"
            ]
          },
          "metadata": {},
          "execution_count": 112
        }
      ]
    },
    {
      "cell_type": "code",
      "source": [
        "  #Change an element in array:\n",
        "  a[0] =100\n",
        "  a\n"
      ],
      "metadata": {
        "colab": {
          "base_uri": "https://localhost:8080/"
        },
        "id": "jBAAijRPpkfo",
        "outputId": "f7a56273-a10b-41ea-ef9b-e735f547ab56"
      },
      "id": "jBAAijRPpkfo",
      "execution_count": null,
      "outputs": [
        {
          "output_type": "execute_result",
          "data": {
            "text/plain": [
              "array([100,   1,   2,   3,   4])"
            ]
          },
          "metadata": {},
          "execution_count": 114
        }
      ]
    },
    {
      "cell_type": "code",
      "source": [
        "#Slicing the array\n",
        "b=a[1:4]\n",
        "b\n",
        "\n",
        "#Slicing & changing the array\n",
        "b[0:2]=100,200\n",
        "b\n"
      ],
      "metadata": {
        "colab": {
          "base_uri": "https://localhost:8080/"
        },
        "id": "vFJ3bcrhtrcc",
        "outputId": "d478d2c8-50e2-4e31-b6e1-4ad129f6f649"
      },
      "id": "vFJ3bcrhtrcc",
      "execution_count": null,
      "outputs": [
        {
          "output_type": "execute_result",
          "data": {
            "text/plain": [
              "array([100, 200,   3])"
            ]
          },
          "metadata": {},
          "execution_count": 118
        }
      ]
    },
    {
      "cell_type": "code",
      "source": [
        "#Basic Operations with Numpy\n",
        "\n",
        "#Vector additions and substractions\n",
        "\n",
        "#with arrays\n",
        "u = [1,0]\n",
        "v = [0,1]\n",
        "z = []\n",
        "\n",
        "for n,m in zip(u,v):\n",
        "  z.append(n+m)\n",
        "z\n",
        "\n",
        "#with numpy arrays\n",
        "u1 = np.array(u)\n",
        "v1 = np.array(v)\n",
        "z1 = u1+v1\n",
        "z1"
      ],
      "metadata": {
        "colab": {
          "base_uri": "https://localhost:8080/"
        },
        "id": "xhnoo0Lrpki-",
        "outputId": "39eeae67-11dd-4fe1-9147-0552649ad6a6"
      },
      "id": "xhnoo0Lrpki-",
      "execution_count": null,
      "outputs": [
        {
          "output_type": "execute_result",
          "data": {
            "text/plain": [
              "array([1, 1])"
            ]
          },
          "metadata": {},
          "execution_count": 124
        }
      ]
    },
    {
      "cell_type": "code",
      "source": [
        "#Multiplication with Scalar\n",
        "\n",
        "y = np.array([1,2])\n",
        "v = 2*y\n",
        "v\n",
        "\n",
        "u = np.array([2,2])\n",
        "z = u*v\n",
        "z"
      ],
      "metadata": {
        "colab": {
          "base_uri": "https://localhost:8080/"
        },
        "id": "POUvk2f4ubMV",
        "outputId": "95c9d977-1f87-4704-e41e-851adb8213d2"
      },
      "id": "POUvk2f4ubMV",
      "execution_count": null,
      "outputs": [
        {
          "output_type": "execute_result",
          "data": {
            "text/plain": [
              "array([4, 8])"
            ]
          },
          "metadata": {},
          "execution_count": 132
        }
      ]
    },
    {
      "cell_type": "code",
      "source": [
        "#Dot product\n",
        "#numpy.dot(array_1,array_2,...)\n",
        "d = np.dot(y,u)\n",
        "d"
      ],
      "metadata": {
        "colab": {
          "base_uri": "https://localhost:8080/"
        },
        "id": "UHN8hAAVv_tR",
        "outputId": "577c1f55-6d49-4c48-e86d-9761da7bafb4"
      },
      "id": "UHN8hAAVv_tR",
      "execution_count": null,
      "outputs": [
        {
          "output_type": "execute_result",
          "data": {
            "text/plain": [
              "6"
            ]
          },
          "metadata": {},
          "execution_count": 134
        }
      ]
    },
    {
      "cell_type": "code",
      "source": [
        "#Broadcasting\n",
        "e = z+1\n",
        "e\n",
        "\n",
        "sin_a =np.sin(a)\n",
        "sin_a\n",
        "\n",
        "#pi\n",
        "np.pi"
      ],
      "metadata": {
        "colab": {
          "base_uri": "https://localhost:8080/"
        },
        "id": "7fl2R6GUyAz8",
        "outputId": "7206f610-34b9-424b-c089-70d0819678ce"
      },
      "id": "7fl2R6GUyAz8",
      "execution_count": null,
      "outputs": [
        {
          "output_type": "execute_result",
          "data": {
            "text/plain": [
              "3.141592653589793"
            ]
          },
          "metadata": {},
          "execution_count": 146
        }
      ]
    },
    {
      "cell_type": "code",
      "source": [
        "#Universal Function\n",
        "a = np.array([1,2,0,-1,3])\n",
        "mean = a.mean()\n",
        "print(mean)\n",
        "\n",
        "max = a.max()\n",
        "print(max)\n"
      ],
      "metadata": {
        "colab": {
          "base_uri": "https://localhost:8080/"
        },
        "id": "-uat3ZAvzQO0",
        "outputId": "56eb678d-6515-441b-b81d-584ad919eb99"
      },
      "id": "-uat3ZAvzQO0",
      "execution_count": null,
      "outputs": [
        {
          "output_type": "stream",
          "name": "stdout",
          "text": [
            "1.0\n",
            "3\n",
            "[ 0.84147098  0.90929743  0.         -0.84147098  0.14112001]\n"
          ]
        }
      ]
    },
    {
      "cell_type": "code",
      "source": [
        "#plotting mathematical functions\n",
        "#np.linespace(starting_pt,ending_pt,num)\n",
        "#get evenly spaced number over the assigned interval\n",
        "np.linspace(-10,10,5)\n",
        "\n",
        "x = np.linspace(0,2*np.pi,100)\n",
        "y = np.sin(x)\n",
        "\n",
        "import matplotlib.pyplot as plt\n",
        "%matplotlib inline\n",
        "plt.plot(x,y)"
      ],
      "metadata": {
        "colab": {
          "base_uri": "https://localhost:8080/",
          "height": 282
        },
        "id": "ZCZhFagpzg1c",
        "outputId": "8b7cd634-f1a7-4381-d940-e3043bbc1bc5"
      },
      "id": "ZCZhFagpzg1c",
      "execution_count": null,
      "outputs": [
        {
          "output_type": "execute_result",
          "data": {
            "text/plain": [
              "[<matplotlib.lines.Line2D at 0x7fa90b0ced50>]"
            ]
          },
          "metadata": {},
          "execution_count": 152
        },
        {
          "output_type": "display_data",
          "data": {
            "image/png": "[encoded data removed]",
            "text/plain": [
              "<Figure size 432x288 with 1 Axes>"
            ]
          },
          "metadata": {
            "needs_background": "light"
          }
        }
      ]
    },
    {
      "cell_type": "markdown",
      "source": [
        "- Two Dimensional NumPy"
      ],
      "metadata": {
        "id": "FMfyG5Pm3w3c"
      },
      "id": "FMfyG5Pm3w3c"
    },
    {
      "cell_type": "code",
      "source": [
        "a = np.array([[1,2,3],[2,4,6],[3,6,9]])\n",
        "#number of dimensions\n",
        "a.ndim\n",
        "#shape\n",
        "a.shape\n",
        "#size\n",
        "a.size"
      ],
      "metadata": {
        "colab": {
          "base_uri": "https://localhost:8080/"
        },
        "id": "-0ZC6QFD1erK",
        "outputId": "63da391d-f091-43bf-b30c-874372157bd2"
      },
      "id": "-0ZC6QFD1erK",
      "execution_count": null,
      "outputs": [
        {
          "output_type": "execute_result",
          "data": {
            "text/plain": [
              "9"
            ]
          },
          "metadata": {},
          "execution_count": 156
        }
      ]
    },
    {
      "cell_type": "code",
      "source": [
        "#indexing in the np array\n",
        "a[0][0]\n",
        "a[0][1]\n",
        "\n",
        "#indexing with slicing\n",
        "a[0:2,0:2]\n",
        "a[0,1:3]"
      ],
      "metadata": {
        "colab": {
          "base_uri": "https://localhost:8080/"
        },
        "id": "F038mkB8CGIh",
        "outputId": "6351205e-807f-46b1-a590-36cdc62e12b2"
      },
      "id": "F038mkB8CGIh",
      "execution_count": null,
      "outputs": [
        {
          "output_type": "execute_result",
          "data": {
            "text/plain": [
              "array([2, 3])"
            ]
          },
          "metadata": {},
          "execution_count": 162
        }
      ]
    },
    {
      "cell_type": "code",
      "source": [
        "#dot product\n",
        "a = np.array([[0,1],[1,2],[0,2]])\n",
        "b = np.array([[0,0,0],[1,1,1]])\n",
        "c = np.dot(b,a)\n",
        "d = np.dot(a,b)\n",
        "c\n",
        "d\n",
        "\n"
      ],
      "metadata": {
        "colab": {
          "base_uri": "https://localhost:8080/"
        },
        "id": "yoZRZpEaCFnO",
        "outputId": "460f9f15-62c7-4e19-c866-9efd07ec3dc8"
      },
      "id": "yoZRZpEaCFnO",
      "execution_count": null,
      "outputs": [
        {
          "output_type": "execute_result",
          "data": {
            "text/plain": [
              "array([[1, 1, 1],\n",
              "       [2, 2, 2],\n",
              "       [2, 2, 2]])"
            ]
          },
          "metadata": {},
          "execution_count": 171
        }
      ]
    },
    {
      "cell_type": "code",
      "source": [
        "\n",
        "X=np.array([[1,0],[0,1]])\n",
        "Y=np.array([[2,2],[2,2]])\n",
        "Z=np.dot(X,Y)\n",
        "Z"
      ],
      "metadata": {
        "colab": {
          "base_uri": "https://localhost:8080/"
        },
        "id": "pX-JJIpRGxJi",
        "outputId": "80652096-56f7-4a7c-df10-b0d145e4a71d"
      },
      "id": "pX-JJIpRGxJi",
      "execution_count": null,
      "outputs": [
        {
          "output_type": "execute_result",
          "data": {
            "text/plain": [
              "array([[2, 2],\n",
              "       [2, 2]])"
            ]
          },
          "metadata": {},
          "execution_count": 173
        }
      ]
    },
    {
      "cell_type": "code",
      "source": [
        ""
      ],
      "metadata": {
        "id": "OtdhlrmIfox2"
      },
      "id": "OtdhlrmIfox2",
      "execution_count": null,
      "outputs": []
    }
  ],
  "metadata": {
    "kernelspec": {
      "display_name": "Python 3",
      "language": "python",
      "name": "python3"
    },
    "language_info": {
      "codemirror_mode": {
        "name": "ipython",
        "version": 3
      },
      "file_extension": ".py",
      "mimetype": "text/x-python",
      "name": "python",
      "nbconvert_exporter": "python",
      "pygments_lexer": "ipython3",
      "version": "3.8.8"
    },
    "colab": {
      "name": "Python_ds.ipynb",
      "provenance": [],
      "collapsed_sections": []
    }
  },
  "nbformat": 4,
  "nbformat_minor": 5
}
